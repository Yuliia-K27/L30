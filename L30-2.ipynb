{
 "cells": [
  {
   "cell_type": "markdown",
   "id": "217364e6",
   "metadata": {},
   "source": [
    "Випадкова величина $ X $ розподілена рівномірно. Знайти щільність її розподілу, якщо $ P(X\\geq3) = 0,4 $, а математичне сподівання рівне $ M(X)=2 $."
   ]
  },
  {
   "cell_type": "markdown",
   "id": "ff4277eb",
   "metadata": {},
   "source": [
    "Щільність рівномірного розподілу можна знайти за формулою:"
   ]
  },
  {
   "cell_type": "markdown",
   "id": "287e27c8",
   "metadata": {},
   "source": [
    "f(x) = 1/(b-a), якщо x належить [a, b], та f(x) = 0 в іншому випадку,\n",
    "де a та b - це межі розподілу."
   ]
  },
  {
   "cell_type": "markdown",
   "id": "c563fb1c",
   "metadata": {},
   "source": [
    "Отже, якщо X розподілена рівномірно на проміжку [a, b]"
   ]
  },
  {
   "cell_type": "code",
   "execution_count": 6,
   "id": "a0e3369e",
   "metadata": {},
   "outputs": [
    {
     "name": "stdout",
     "output_type": "stream",
     "text": [
      "Щільність розподілу для x = 3.5 дорівнює 0\n",
      "Ймовірність P(X >= 3) дорівнює 1\n"
     ]
    }
   ],
   "source": [
    "from scipy.integrate import quad\n",
    "\n",
    "# Визначення щільності рівномірного розподілу\n",
    "def uniform_pdf(x, a, b):\n",
    "    if x < a or x > b:\n",
    "        return 0\n",
    "    else:\n",
    "        return 1/(b-a)\n",
    "\n",
    "# Визначення функції розподілу\n",
    "def uniform_cdf(x, a, b):\n",
    "    if x < a:\n",
    "        return 0\n",
    "    elif x >= b:\n",
    "        return 1\n",
    "    else:\n",
    "        return quad(lambda t: 1/(b-a), x, b)[0]\n",
    "\n",
    "# Задані умови\n",
    "p = 0.4\n",
    "mean = 2\n",
    "\n",
    "# Визначення меж розподілу\n",
    "b = (1-p)*(1-mean)/0.6 + mean\n",
    "a = mean\n",
    "\n",
    "# Знаходження щільності розподілу для певного значення x\n",
    "x = 3.5\n",
    "pdf = uniform_pdf(x, a, b)\n",
    "print(f\"Щільність розподілу для x = {x} дорівнює {pdf}\")\n",
    "\n",
    "# Знаходження ймовірності P(X >= 3)\n",
    "x = 3\n",
    "cdf = uniform_cdf(x, a, b)\n",
    "print(f\"Ймовірність P(X >= {x}) дорівнює {cdf}\")"
   ]
  }
 ],
 "metadata": {
  "kernelspec": {
   "display_name": "Python 3 (ipykernel)",
   "language": "python",
   "name": "python3"
  },
  "language_info": {
   "codemirror_mode": {
    "name": "ipython",
    "version": 3
   },
   "file_extension": ".py",
   "mimetype": "text/x-python",
   "name": "python",
   "nbconvert_exporter": "python",
   "pygments_lexer": "ipython3",
   "version": "3.9.13"
  }
 },
 "nbformat": 4,
 "nbformat_minor": 5
}
