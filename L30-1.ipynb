{
  "metadata": {
    "language_info": {
      "codemirror_mode": {
        "name": "python",
        "version": 3
      },
      "file_extension": ".py",
      "mimetype": "text/x-python",
      "name": "python",
      "nbconvert_exporter": "python",
      "pygments_lexer": "ipython3",
      "version": "3.8"
    },
    "kernelspec": {
      "name": "python",
      "display_name": "Python (Pyodide)",
      "language": "python"
    }
  },
  "nbformat_minor": 4,
  "nbformat": 4,
  "cells": [
    {
      "cell_type": "code",
      "source": "import numpy as np\nimport pandas as pd\nfrom scipy.stats import chi2_contingency\n\n# Задані результати вимірювання\nx = [\"0-24\", \"24-48\", \"48-72\", \"72-96\", \"96-120\", \"120-144\", \"144-168\", \"168-192\", \"192-216\"]\nn = [1, 2, 4, 6, 14, 16, 6, 2, 1]\n\n# Обчислюємо кількість випадків в кожному інтервалі\ntotal = sum(n)\np = [i / total for i in n]\ne = [total * 0.125] * 9\no = n\n\n# Створюємо таблицю спряженості\ndf = pd.DataFrame({\"x\": x, \"o\": o, \"e\": e, \"p\": p})\n\n# Обчислюємо критерій хі-квадрат\nchi2, p_val, dof, expected = chi2_contingency(df[[\"o\", \"e\"]])\n\n# Виводимо результати\nalpha = 0.01\nif p_val < alpha:\n    print(\"Закон розподілу ознаки не відповідає генеральній сукупності (p-value={:.4f}, alpha={:.2f})\".format(p_val, alpha))\nelse:\n    print(\"Закон розподілу ознаки відповідає генеральній сукупності (p-value={:.4f}, alpha={:.2f})\".format(p_val, alpha))",
      "metadata": {
        "trusted": true
      },
      "execution_count": 2,
      "outputs": [
        {
          "name": "stdout",
          "text": "Закон розподілу ознаки відповідає генеральній сукупності (p-value=0.0107, alpha=0.01)\n",
          "output_type": "stream"
        }
      ]
    }
  ]
}