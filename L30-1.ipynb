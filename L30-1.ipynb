{
 "cells": [
  {
   "cell_type": "markdown",
   "id": "81e76ac3",
   "metadata": {},
   "source": [
    "Протягом 50 років вимірювався рівень води навесні під час повені відносно умовного нуля. Результати вимірювання наведено у\n",
    "вигляді інтервального статистичного розподілу:"
   ]
  },
  {
   "cell_type": "markdown",
   "id": "8a7fa300",
   "metadata": {},
   "source": [
    "|$x_i$  | 0-24  | 24-48 | 48-72 | 72-96 | 96-120 | 120-144 | 144-168 | 168-192 | 192-216 |\n",
    "|:----: | :---: | :---: | :---: | :---: | :----: | :-----: | :-----: | :-----: | :-----: |\n",
    "|$n_i$  | 1     | 2     | 4     | 6     | 12     | 16      | 6       | 2       | 1       |"
   ]
  },
  {
   "cell_type": "markdown",
   "id": "c86957c9",
   "metadata": {},
   "source": [
    "За заданими статистичними розподілами вибірки висунути $ H_0 $ про закон розподілу ознаки генеральної сукупності і при рівні значущості $ \\alpha = 0,01 $ перевірити її правильність."
   ]
  },
  {
   "cell_type": "code",
   "execution_count": 3,
   "id": "cba0d7e9",
   "metadata": {},
   "outputs": [
    {
     "name": "stdout",
     "output_type": "stream",
     "text": [
      "Закон розподілу ознаки відповідає генеральній сукупності (p-value=0.0107, alpha=0.01)\n"
     ]
    }
   ],
   "source": [
    "import numpy as np\n",
    "import pandas as pd\n",
    "from scipy.stats import chi2_contingency\n",
    "\n",
    "# Задані результати вимірювання\n",
    "x = [\"0-24\", \"24-48\", \"48-72\", \"72-96\", \"96-120\", \"120-144\", \"144-168\", \"168-192\", \"192-216\"]\n",
    "n = [1, 2, 4, 6, 14, 16, 6, 2, 1]\n",
    "\n",
    "# Обчислюємо кількість випадків в кожному інтервалі\n",
    "total = sum(n)\n",
    "p = [i / total for i in n]\n",
    "e = [total * 0.125] * 9\n",
    "o = n\n",
    "\n",
    "# Створюємо таблицю спряженості\n",
    "df = pd.DataFrame({\"x\": x, \"o\": o, \"e\": e, \"p\": p})\n",
    "\n",
    "# Обчислюємо критерій хі-квадрат\n",
    "chi2, p_val, dof, expected = chi2_contingency(df[[\"o\", \"e\"]])\n",
    "\n",
    "# Виводимо результати\n",
    "alpha = 0.01\n",
    "if p_val < alpha:\n",
    "    print(\"Закон розподілу ознаки не відповідає генеральній сукупності (p-value={:.4f}, alpha={:.2f})\".format(p_val, alpha))\n",
    "else:\n",
    "    print(\"Закон розподілу ознаки відповідає генеральній сукупності (p-value={:.4f}, alpha={:.2f})\".format(p_val, alpha))\n",
    "    "
   ]
  },
  {
   "cell_type": "code",
   "execution_count": null,
   "id": "18bad9ac",
   "metadata": {},
   "outputs": [],
   "source": []
  }
 ],
 "metadata": {
  "kernelspec": {
   "display_name": "Python 3 (ipykernel)",
   "language": "python",
   "name": "python3"
  },
  "language_info": {
   "codemirror_mode": {
    "name": "ipython",
    "version": 3
   },
   "file_extension": ".py",
   "mimetype": "text/x-python",
   "name": "python",
   "nbconvert_exporter": "python",
   "pygments_lexer": "ipython3",
   "version": "3.9.13"
  }
 },
 "nbformat": 4,
 "nbformat_minor": 5
}
